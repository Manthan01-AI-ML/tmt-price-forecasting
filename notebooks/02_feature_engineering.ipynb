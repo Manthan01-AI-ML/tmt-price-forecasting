{
 "cells": [
  {
   "cell_type": "code",
   "execution_count": 4,
   "id": "eb23d5f9-50dc-469e-b866-f4e888c6f24d",
   "metadata": {},
   "outputs": [
    {
     "name": "stdout",
     "output_type": "stream",
     "text": [
      "✅ Feature engineering complete. Saved to ../data/features_tmt.csv\n"
     ]
    },
    {
     "data": {
      "text/html": [
       "<div>\n",
       "<style scoped>\n",
       "    .dataframe tbody tr th:only-of-type {\n",
       "        vertical-align: middle;\n",
       "    }\n",
       "\n",
       "    .dataframe tbody tr th {\n",
       "        vertical-align: top;\n",
       "    }\n",
       "\n",
       "    .dataframe thead th {\n",
       "        text-align: right;\n",
       "    }\n",
       "</style>\n",
       "<table border=\"1\" class=\"dataframe\">\n",
       "  <thead>\n",
       "    <tr style=\"text-align: right;\">\n",
       "      <th></th>\n",
       "      <th>Invoice_Date</th>\n",
       "      <th>Unit_Price</th>\n",
       "      <th>Quantity_MT</th>\n",
       "      <th>vendor_id</th>\n",
       "    </tr>\n",
       "  </thead>\n",
       "  <tbody>\n",
       "    <tr>\n",
       "      <th>0</th>\n",
       "      <td>2022-05-19</td>\n",
       "      <td>61750.0</td>\n",
       "      <td>8.98</td>\n",
       "      <td>7</td>\n",
       "    </tr>\n",
       "    <tr>\n",
       "      <th>1</th>\n",
       "      <td>2022-05-19</td>\n",
       "      <td>61750.0</td>\n",
       "      <td>19.94</td>\n",
       "      <td>7</td>\n",
       "    </tr>\n",
       "    <tr>\n",
       "      <th>2</th>\n",
       "      <td>2022-05-21</td>\n",
       "      <td>60250.0</td>\n",
       "      <td>7.98</td>\n",
       "      <td>12</td>\n",
       "    </tr>\n",
       "    <tr>\n",
       "      <th>3</th>\n",
       "      <td>2022-05-21</td>\n",
       "      <td>60250.0</td>\n",
       "      <td>11.60</td>\n",
       "      <td>12</td>\n",
       "    </tr>\n",
       "    <tr>\n",
       "      <th>4</th>\n",
       "      <td>2022-05-21</td>\n",
       "      <td>61250.0</td>\n",
       "      <td>9.58</td>\n",
       "      <td>12</td>\n",
       "    </tr>\n",
       "  </tbody>\n",
       "</table>\n",
       "</div>"
      ],
      "text/plain": [
       "  Invoice_Date  Unit_Price  Quantity_MT  vendor_id\n",
       "0   2022-05-19     61750.0         8.98          7\n",
       "1   2022-05-19     61750.0        19.94          7\n",
       "2   2022-05-21     60250.0         7.98         12\n",
       "3   2022-05-21     60250.0        11.60         12\n",
       "4   2022-05-21     61250.0         9.58         12"
      ]
     },
     "execution_count": 4,
     "metadata": {},
     "output_type": "execute_result"
    }
   ],
   "source": [
    "import sys\n",
    "import os\n",
    "sys.path.append(os.path.abspath(\"..\"))\n",
    "\n",
    "import pandas as pd\n",
    "from src import feature_engineering as fe\n",
    "\n",
    "df = pd.read_csv(\"../data/cleaned_tmt_data.csv\", parse_dates=[\"Invoice_Date\"])\n",
    "df = df.sort_values(\"Invoice_Date\")\n",
    "\n",
    "df_feat = fe.build_feature_matrix(df)\n",
    "df_feat = df_feat[df_feat[\"Unit_Price\"].notna()]\n",
    "\n",
    "os.makedirs(\"../data\", exist_ok=True)\n",
    "df_feat.to_csv(\"../data/features_tmt.csv\", index=False)\n",
    "\n",
    "print(\"✅ Feature engineering complete. Saved to ../data/features_tmt.csv\")\n",
    "df_feat.head()[[\"Invoice_Date\", \"Unit_Price\", \"Quantity_MT\", \"vendor_id\"]]\n"
   ]
  },
  {
   "cell_type": "code",
   "execution_count": null,
   "id": "55c2867f-4e98-4bd9-8d24-e48b7d59f96a",
   "metadata": {},
   "outputs": [],
   "source": []
  }
 ],
 "metadata": {
  "kernelspec": {
   "display_name": "Python 3 (ipykernel)",
   "language": "python",
   "name": "python3"
  },
  "language_info": {
   "codemirror_mode": {
    "name": "ipython",
    "version": 3
   },
   "file_extension": ".py",
   "mimetype": "text/x-python",
   "name": "python",
   "nbconvert_exporter": "python",
   "pygments_lexer": "ipython3",
   "version": "3.11.0"
  }
 },
 "nbformat": 4,
 "nbformat_minor": 5
}
