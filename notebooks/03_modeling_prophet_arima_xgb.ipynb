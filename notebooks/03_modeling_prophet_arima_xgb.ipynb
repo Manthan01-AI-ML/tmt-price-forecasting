{
 "cells": [
  {
   "cell_type": "code",
   "execution_count": 1,
   "id": "fa75425d-f14a-4536-bc0d-ad822f2b3ba4",
   "metadata": {},
   "outputs": [],
   "source": [
    "\n",
    "# quick comparison: Prophet (with Quantity_MT), ARIMA, XGBoost\n",
    "\n",
    "\n",
    "import math\n",
    "import warnings\n",
    "warnings.filterwarnings(\"ignore\")\n",
    "\n",
    "import numpy as np\n",
    "import pandas as pd\n",
    "\n",
    "from sklearn.metrics import mean_absolute_error, mean_squared_error\n",
    "from prophet import Prophet\n",
    "from statsmodels.tsa.arima.model import ARIMA\n",
    "from xgboost import XGBRegressor\n",
    "\n",
    "import matplotlib.pyplot as plt\n",
    "plt.rcParams[\"figure.figsize\"] = (11,4)\n",
    "\n",
    "# helper function\n",
    "def safe_eval(y_true, y_pred, label=\"model\"):\n",
    "    try:\n",
    "        mae = mean_absolute_error(y_true, y_pred)\n",
    "        rmse = math.sqrt(mean_squared_error(y_true, y_pred))\n",
    "        print(f\"{label:<12} -> MAE: {mae:.2f} | RMSE: {rmse:.2f}\")\n",
    "        return mae, rmse\n",
    "    except Exception as e:\n",
    "        print(f\"{label} evaluation failed:\", e)\n",
    "        return None, None\n"
   ]
  },
  {
   "cell_type": "code",
   "execution_count": 2,
   "id": "b61bd421-9b01-423a-8f59-379e25524555",
   "metadata": {},
   "outputs": [
    {
     "name": "stdout",
     "output_type": "stream",
     "text": [
      "rows: 783\n"
     ]
    },
    {
     "data": {
      "text/html": [
       "<div>\n",
       "<style scoped>\n",
       "    .dataframe tbody tr th:only-of-type {\n",
       "        vertical-align: middle;\n",
       "    }\n",
       "\n",
       "    .dataframe tbody tr th {\n",
       "        vertical-align: top;\n",
       "    }\n",
       "\n",
       "    .dataframe thead th {\n",
       "        text-align: right;\n",
       "    }\n",
       "</style>\n",
       "<table border=\"1\" class=\"dataframe\">\n",
       "  <thead>\n",
       "    <tr style=\"text-align: right;\">\n",
       "      <th></th>\n",
       "      <th>Invoice_Date</th>\n",
       "      <th>Material_Name</th>\n",
       "      <th>Quantity_MT</th>\n",
       "      <th>Total_Invoice_Value</th>\n",
       "      <th>Unit_Price</th>\n",
       "      <th>UOM</th>\n",
       "      <th>Vendor_Name</th>\n",
       "      <th>year</th>\n",
       "      <th>month</th>\n",
       "      <th>day</th>\n",
       "      <th>...</th>\n",
       "      <th>is_month_start</th>\n",
       "      <th>is_month_end</th>\n",
       "      <th>lag_1</th>\n",
       "      <th>lag_7</th>\n",
       "      <th>lag_30</th>\n",
       "      <th>rolling_mean_7</th>\n",
       "      <th>rolling_mean_30</th>\n",
       "      <th>vendor_id</th>\n",
       "      <th>order_qty</th>\n",
       "      <th>log_order_qty</th>\n",
       "    </tr>\n",
       "  </thead>\n",
       "  <tbody>\n",
       "    <tr>\n",
       "      <th>0</th>\n",
       "      <td>2022-05-19</td>\n",
       "      <td>TMT REBAR FE500D DIA 12MM</td>\n",
       "      <td>8.98</td>\n",
       "      <td>659625.9</td>\n",
       "      <td>61750.0</td>\n",
       "      <td>MTS</td>\n",
       "      <td>MS AGARWAL FOUNDRIES PRIVATE LIMITED</td>\n",
       "      <td>2022</td>\n",
       "      <td>5</td>\n",
       "      <td>19</td>\n",
       "      <td>...</td>\n",
       "      <td>0</td>\n",
       "      <td>0</td>\n",
       "      <td>NaN</td>\n",
       "      <td>NaN</td>\n",
       "      <td>NaN</td>\n",
       "      <td>NaN</td>\n",
       "      <td>NaN</td>\n",
       "      <td>7</td>\n",
       "      <td>8.98</td>\n",
       "      <td>2.300583</td>\n",
       "    </tr>\n",
       "    <tr>\n",
       "      <th>1</th>\n",
       "      <td>2022-05-19</td>\n",
       "      <td>TMT REBAR FE500D DIA 20MM</td>\n",
       "      <td>19.94</td>\n",
       "      <td>1464692.7</td>\n",
       "      <td>61750.0</td>\n",
       "      <td>MTS</td>\n",
       "      <td>MS AGARWAL FOUNDRIES PRIVATE LIMITED</td>\n",
       "      <td>2022</td>\n",
       "      <td>5</td>\n",
       "      <td>19</td>\n",
       "      <td>...</td>\n",
       "      <td>0</td>\n",
       "      <td>0</td>\n",
       "      <td>61750.0</td>\n",
       "      <td>NaN</td>\n",
       "      <td>NaN</td>\n",
       "      <td>NaN</td>\n",
       "      <td>NaN</td>\n",
       "      <td>7</td>\n",
       "      <td>19.94</td>\n",
       "      <td>3.041661</td>\n",
       "    </tr>\n",
       "    <tr>\n",
       "      <th>2</th>\n",
       "      <td>2022-05-21</td>\n",
       "      <td>TMT REBAR FE500D DIA 10MM</td>\n",
       "      <td>7.98</td>\n",
       "      <td>567338.1</td>\n",
       "      <td>60250.0</td>\n",
       "      <td>MTS</td>\n",
       "      <td>Rawmart Material Solutions Pvt Ltd</td>\n",
       "      <td>2022</td>\n",
       "      <td>5</td>\n",
       "      <td>21</td>\n",
       "      <td>...</td>\n",
       "      <td>0</td>\n",
       "      <td>0</td>\n",
       "      <td>61750.0</td>\n",
       "      <td>NaN</td>\n",
       "      <td>NaN</td>\n",
       "      <td>NaN</td>\n",
       "      <td>NaN</td>\n",
       "      <td>12</td>\n",
       "      <td>7.98</td>\n",
       "      <td>2.195000</td>\n",
       "    </tr>\n",
       "  </tbody>\n",
       "</table>\n",
       "<p>3 rows × 22 columns</p>\n",
       "</div>"
      ],
      "text/plain": [
       "  Invoice_Date              Material_Name  Quantity_MT  Total_Invoice_Value  \\\n",
       "0   2022-05-19  TMT REBAR FE500D DIA 12MM         8.98             659625.9   \n",
       "1   2022-05-19  TMT REBAR FE500D DIA 20MM        19.94            1464692.7   \n",
       "2   2022-05-21  TMT REBAR FE500D DIA 10MM         7.98             567338.1   \n",
       "\n",
       "   Unit_Price  UOM                           Vendor_Name  year  month  day  \\\n",
       "0     61750.0  MTS  MS AGARWAL FOUNDRIES PRIVATE LIMITED  2022      5   19   \n",
       "1     61750.0  MTS  MS AGARWAL FOUNDRIES PRIVATE LIMITED  2022      5   19   \n",
       "2     60250.0  MTS    Rawmart Material Solutions Pvt Ltd  2022      5   21   \n",
       "\n",
       "   ...  is_month_start  is_month_end    lag_1  lag_7  lag_30  rolling_mean_7  \\\n",
       "0  ...               0             0      NaN    NaN     NaN             NaN   \n",
       "1  ...               0             0  61750.0    NaN     NaN             NaN   \n",
       "2  ...               0             0  61750.0    NaN     NaN             NaN   \n",
       "\n",
       "   rolling_mean_30  vendor_id  order_qty  log_order_qty  \n",
       "0              NaN          7       8.98       2.300583  \n",
       "1              NaN          7      19.94       3.041661  \n",
       "2              NaN         12       7.98       2.195000  \n",
       "\n",
       "[3 rows x 22 columns]"
      ]
     },
     "metadata": {},
     "output_type": "display_data"
    },
    {
     "name": "stdout",
     "output_type": "stream",
     "text": [
      "train: 585  | test: 198\n"
     ]
    }
   ],
   "source": [
    "# expects that 02_feature_engineering saved this file\n",
    "FEAT_PATH = \"../data/features_tmt.csv\"\n",
    "\n",
    "df = pd.read_csv(FEAT_PATH, parse_dates=[\"Invoice_Date\"]).sort_values(\"Invoice_Date\")\n",
    "print(\"rows:\", len(df))\n",
    "display(df.head(3))\n",
    "\n",
    "# simple time split: last ~3 months = test\n",
    "split_date = df[\"Invoice_Date\"].max() - pd.DateOffset(months=3)\n",
    "train = df[df[\"Invoice_Date\"] <= split_date].copy()\n",
    "test  = df[df[\"Invoice_Date\"] >  split_date].copy()\n",
    "\n",
    "print(\"train:\", len(train), \" | test:\", len(test))\n",
    "if len(test) == 0:\n",
    "    print(\"⚠ test set is empty — widen the window or check your data slice.\")\n"
   ]
  },
  {
   "cell_type": "code",
   "execution_count": 3,
   "id": "43111f97-4096-4d23-8152-b7b598d31a49",
   "metadata": {},
   "outputs": [
    {
     "name": "stderr",
     "output_type": "stream",
     "text": [
      "02:04:46 - cmdstanpy - INFO - Chain [1] start processing\n",
      "02:04:47 - cmdstanpy - INFO - Chain [1] done processing\n"
     ]
    },
    {
     "name": "stdout",
     "output_type": "stream",
     "text": [
      "Prophet+Qty  -> MAE: 2519.95 | RMSE: 3555.99\n"
     ]
    }
   ],
   "source": [
    "# Prophet is for trend/seasonality; I keep it simple and only add Quantity_MT as a numeric regressor.\n",
    "try:\n",
    "    # training frame for prophet\n",
    "    tmp = train[[\"Invoice_Date\", \"Unit_Price\", \"Quantity_MT\"]].copy()\n",
    "    tmp = tmp.dropna(subset=[\"Invoice_Date\", \"Unit_Price\"])  # qty can be NaN; we’ll fill later for test\n",
    "    tmp[\"ds\"] = tmp[\"Invoice_Date\"].dt.floor(\"D\")\n",
    "    tmp[\"y\"]  = tmp[\"Unit_Price\"]\n",
    "\n",
    "    m_prophet = Prophet(daily_seasonality=True, yearly_seasonality=True)\n",
    "    m_prophet.add_regressor(\"Quantity_MT\")\n",
    "\n",
    "    # Prophet fit wants only the columns it needs\n",
    "    m_prophet.fit(tmp[[\"ds\", \"y\", \"Quantity_MT\"]])\n",
    "\n",
    "    if test.empty:\n",
    "        print(\"⚠ Prophet skipped: test set empty.\")\n",
    "        p_mae = p_rmse = None\n",
    "    else:\n",
    "        test_ = test.copy()\n",
    "        test_[\"Invoice_Date\"] = test_[\"Invoice_Date\"].dt.floor(\"D\")\n",
    "        # minimal impute for qty (don’t overthink)\n",
    "        qty_median = tmp[\"Quantity_MT\"].median()\n",
    "        test_[\"Quantity_MT\"] = pd.to_numeric(test_[\"Quantity_MT\"], errors=\"coerce\").fillna(qty_median)\n",
    "\n",
    "        # force prophet to predict exactly our test dates + qty\n",
    "        future = test_[[\"Invoice_Date\", \"Quantity_MT\"]].rename(columns={\"Invoice_Date\": \"ds\"})\n",
    "        fc = m_prophet.predict(future)[[\"ds\", \"yhat\"]]\n",
    "\n",
    "        joined = fc.set_index(\"ds\").join(test.set_index(\"Invoice_Date\"))[[\"Unit_Price\", \"yhat\"]].dropna()\n",
    "        p_mae, p_rmse = safe_eval(joined[\"Unit_Price\"], joined[\"yhat\"], \"Prophet+Qty\")\n",
    "\n",
    "        # keep for plot\n",
    "        prophet_pred = joined[\"yhat\"].values\n",
    "        prophet_dates = joined.index.to_numpy()\n",
    "except Exception as e:\n",
    "    print(\"Prophet failed:\", e)\n",
    "    p_mae = p_rmse = None\n",
    "    prophet_pred = None\n",
    "    prophet_dates = None\n"
   ]
  },
  {
   "cell_type": "code",
   "execution_count": 4,
   "id": "764cb331-5b44-4d83-8167-2ebb8f8adba7",
   "metadata": {},
   "outputs": [
    {
     "name": "stderr",
     "output_type": "stream",
     "text": [
      "c:\\Users\\hp\\AppData\\Local\\Programs\\Python\\Python311\\Lib\\site-packages\\statsmodels\\tsa\\base\\tsa_model.py:473: ValueWarning: A date index has been provided, but it has no associated frequency information and so will be ignored when e.g. forecasting.\n",
      "  self._init_dates(dates, freq)\n",
      "c:\\Users\\hp\\AppData\\Local\\Programs\\Python\\Python311\\Lib\\site-packages\\statsmodels\\tsa\\base\\tsa_model.py:473: ValueWarning: A date index has been provided, but it has no associated frequency information and so will be ignored when e.g. forecasting.\n",
      "  self._init_dates(dates, freq)\n",
      "c:\\Users\\hp\\AppData\\Local\\Programs\\Python\\Python311\\Lib\\site-packages\\statsmodels\\tsa\\base\\tsa_model.py:473: ValueWarning: A date index has been provided, but it has no associated frequency information and so will be ignored when e.g. forecasting.\n",
      "  self._init_dates(dates, freq)\n"
     ]
    },
    {
     "name": "stdout",
     "output_type": "stream",
     "text": [
      "ARIMA        -> MAE: 5023.94 | RMSE: 6722.27\n"
     ]
    },
    {
     "name": "stderr",
     "output_type": "stream",
     "text": [
      "c:\\Users\\hp\\AppData\\Local\\Programs\\Python\\Python311\\Lib\\site-packages\\statsmodels\\tsa\\base\\tsa_model.py:837: ValueWarning: No supported index is available. Prediction results will be given with an integer index beginning at `start`.\n",
      "  return get_prediction_index(\n"
     ]
    }
   ],
   "source": [
    "try:\n",
    "    y_train = train.set_index(\"Invoice_Date\")[\"Unit_Price\"]\n",
    "    y_test  = test.set_index(\"Invoice_Date\")[\"Unit_Price\"]\n",
    "\n",
    "    # not over-tuned; just a decent baseline\n",
    "    arima = ARIMA(y_train, order=(5,1,0)).fit()\n",
    "    a_pred = arima.forecast(steps=len(y_test))\n",
    "\n",
    "    a_mae, a_rmse = safe_eval(y_test, a_pred, \"ARIMA\")\n",
    "except Exception as e:\n",
    "    print(\"ARIMA failed:\", e)\n",
    "    a_mae = a_rmse = None\n"
   ]
  },
  {
   "cell_type": "code",
   "execution_count": 5,
   "id": "aad4751f-f533-46ea-8a22-8cc5f8d9d31a",
   "metadata": {
    "scrolled": true
   },
   "outputs": [
    {
     "name": "stdout",
     "output_type": "stream",
     "text": [
      "XGBoost      -> MAE: 2045.89 | RMSE: 2966.34\n"
     ]
    }
   ],
   "source": [
    "#  XGBoost (numeric-only features)\n",
    "try:\n",
    "    # use only numeric/bool features; the engineered ones cover vendor & qty already\n",
    "    numeric_cols = train.select_dtypes(include=[\"number\", \"bool\"]).columns.tolist()\n",
    "    feature_cols = [c for c in numeric_cols if c != \"Unit_Price\"]\n",
    "\n",
    "    if len(feature_cols) == 0:\n",
    "        raise ValueError(\"No numeric features found for XGBoost.\")\n",
    "\n",
    "    X_train, y_train_xgb = train[feature_cols].fillna(0), train[\"Unit_Price\"]\n",
    "    X_test,  y_test_xgb  = test[feature_cols].fillna(0),  test[\"Unit_Price\"]\n",
    "\n",
    "    model_xgb = XGBRegressor(\n",
    "        n_estimators=500,\n",
    "        learning_rate=0.05,\n",
    "        max_depth=6,\n",
    "        subsample=0.8,\n",
    "        colsample_bytree=0.8,\n",
    "        random_state=42\n",
    "    )\n",
    "    model_xgb.fit(X_train, y_train_xgb)\n",
    "    x_pred = model_xgb.predict(X_test)\n",
    "\n",
    "    x_mae, x_rmse = safe_eval(y_test_xgb, x_pred, \"XGBoost\")\n",
    "except Exception as e:\n",
    "    print(\"XGBoost failed:\", e)\n",
    "    non_numeric = [f\"{c}:{train[c].dtype}\" for c in train.columns\n",
    "                   if train[c].dtype not in (\"int64\",\"float64\",\"bool\",\"int32\",\"float32\")]\n",
    "    print(\"Non-numeric columns present:\", non_numeric)\n",
    "    x_pred = None\n",
    "\n"
   ]
  },
  {
   "cell_type": "code",
   "execution_count": 6,
   "id": "0364faef-c572-415c-82b8-0e0ab18b4050",
   "metadata": {},
   "outputs": [
    {
     "name": "stdout",
     "output_type": "stream",
     "text": [
      "\n",
      "=== Scoreboard (lower is better) ===\n",
      "Prophet+Qty : MAE=2519.9497766556888 | RMSE=3555.9857994803615\n",
      "ARIMA       : MAE=5023.936440253795 | RMSE=6722.270635408374\n",
      "XGBoost     : MAE=2045.8887939219653 | RMSE=2966.336407756295\n"
     ]
    }
   ],
   "source": [
    "print(\"\\n=== Scoreboard (lower is better) ===\")\n",
    "print(f\"Prophet+Qty : MAE={p_mae if p_mae is not None else 'NA'} | RMSE={p_rmse if p_rmse is not None else 'NA'}\")\n",
    "print(f\"ARIMA       : MAE={a_mae if 'a_mae' in globals() else 'NA'} | RMSE={a_rmse if 'a_rmse' in globals() else 'NA'}\")\n",
    "print(f\"XGBoost     : MAE={x_mae if 'x_mae' in globals() else 'NA'} | RMSE={x_rmse if 'x_rmse' in globals() else 'NA'}\")\n"
   ]
  },
  {
   "cell_type": "code",
   "execution_count": 7,
   "id": "eb28989a-2f2f-4ac2-93c0-8b51a3a05553",
   "metadata": {},
   "outputs": [
    {
     "data": {
      "image/png": "[encoded data removed]",
      "text/plain": [
       "<Figure size 1100x400 with 1 Axes>"
      ]
     },
     "metadata": {},
     "output_type": "display_data"
    }
   ],
   "source": [
    "\n",
    "try:\n",
    "    fig, ax = plt.subplots()\n",
    "    ax.plot(test[\"Invoice_Date\"], test[\"Unit_Price\"], label=\"Actual\", linewidth=2)\n",
    "\n",
    "    if x_pred is not None:\n",
    "        ax.plot(test[\"Invoice_Date\"], x_pred, label=\"XGB Pred\", alpha=0.8)\n",
    "\n",
    "    if prophet_pred is not None and prophet_dates is not None:\n",
    "        ax.plot(prophet_dates, prophet_pred, label=\"Prophet+Qty\", alpha=0.8)\n",
    "\n",
    "    ax.set_title(\"Test window — Actual vs Predictions\")\n",
    "    ax.set_xlabel(\"Date\"); ax.set_ylabel(\"Unit Price\")\n",
    "    ax.legend()\n",
    "    plt.tight_layout()\n",
    "    plt.show()\n",
    "except Exception as e:\n",
    "    print(\"plot skipped:\", e)\n"
   ]
  },
  {
   "cell_type": "code",
   "execution_count": null,
   "id": "912c3c7c-02bf-43d7-9ecc-302b21cc2b5e",
   "metadata": {},
   "outputs": [],
   "source": []
  },
  {
   "cell_type": "code",
   "execution_count": null,
   "id": "7d4ba2a6-87a6-4d32-b2c3-d77ab69a4a18",
   "metadata": {},
   "outputs": [],
   "source": []
  },
  {
   "cell_type": "code",
   "execution_count": null,
   "id": "817857ed-eea5-49ed-9243-4c4c40c7540f",
   "metadata": {},
   "outputs": [],
   "source": []
  }
 ],
 "metadata": {
  "kernelspec": {
   "display_name": "Python 3",
   "language": "python",
   "name": "python3"
  },
  "language_info": {
   "codemirror_mode": {
    "name": "ipython",
    "version": 3
   },
   "file_extension": ".py",
   "mimetype": "text/x-python",
   "name": "python",
   "nbconvert_exporter": "python",
   "pygments_lexer": "ipython3",
   "version": "3.11.0"
  }
 },
 "nbformat": 4,
 "nbformat_minor": 5
}
